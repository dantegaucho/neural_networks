{
 "cells": [
  {
   "cell_type": "markdown",
   "id": "232785d9",
   "metadata": {},
   "source": [
    "## Neural Networks\n",
    "#### Understanding Neural Networks and Tensors\n",
    "Neural networks are computational models inspired by the structure of the human brain. They consist of layers of interconnected units called neurons, organized into an input layer, one or more hidden layers, and an output layer. These networks are designed to learn patterns in data by adjusting the weights of connections between neurons through a process called training. The hidden layers are especially important, as they transform the input data using weighted sums and activation functions to capture complex relationships and features.\n",
    "\n",
    "In deep learning, data is represented using tensors, which are multi-dimensional arrays. A tensor can take various forms: a scalar (0D), a vector (1D), a matrix (2D), or higher-dimensional arrays (3D and beyond). For instance, images are commonly represented as 3D tensors—height, width, and color channels (e.g., RGB). So, a 64x64 pixel image with 3 channels would be a tensor of shape [64, 64, 3]. Tensors are foundational to how data flows through a neural network and are essential to model computation.\n",
    "\n",
    "![alt text](image1.png)\n",
    "\n",
    "#### Forward and Backward Propagation\n",
    "`Forward` and `backward` **propagation** are the core processes that enable a neural network to learn. In forward propagation, input data (represented as tensors) flows through the network layer by layer. Each neuron in a layer computes a weighted sum of its inputs, applies an activation function (like ReLU or sigmoid), and passes the result to the next layer. This continues until the network produces an output—such as a class label in image classification.\n",
    "\n",
    "Once the output is compared to the true label using a loss function, the network uses backward propagation to update its internal parameters (weights and biases). Backpropagation works by computing gradients of the loss with respect to each weight using the chain rule of calculus. These gradients indicate how much each weight contributed to the error, allowing the model to adjust the weights in the direction that minimizes the loss. This optimization is typically done using gradient descent or a variant like Adam. Through many iterations of forward and backward passes, the network gradually improves its performance.\n",
    "\n",
    "#### Tensor Operations in Neural Networks\n",
    "Neural networks rely heavily on tensor operations to process and transform data. Common operations include element-wise addition and multiplication, matrix multiplication, and broadcasting, which allows operations on tensors of different shapes. For example, when data flows through a layer, it’s multiplied by a weight matrix and added to a bias vector—both of which are tensors. These operations are performed efficiently using libraries like TensorFlow or PyTorch, which are optimized for hardware acceleration (like GPUs). Understanding how these operations work at the tensor level is crucial to grasp how information propagates and is transformed in a model."
   ]
  },
  {
   "cell_type": "markdown",
   "id": "bb2e9913",
   "metadata": {},
   "source": [
    "![alt text](image.png)"
   ]
  },
  {
   "cell_type": "code",
   "execution_count": 4,
   "id": "66460e4b",
   "metadata": {},
   "outputs": [
    {
     "data": {
      "application/vnd.microsoft.datawrangler.viewer.v0+json": {
       "columns": [
        {
         "name": "index",
         "rawType": "int64",
         "type": "integer"
        },
        {
         "name": "variety",
         "rawType": "object",
         "type": "string"
        },
        {
         "name": "pricing",
         "rawType": "float64",
         "type": "float"
        },
        {
         "name": "location",
         "rawType": "object",
         "type": "string"
        },
        {
         "name": "sales",
         "rawType": "int64",
         "type": "integer"
        }
       ],
       "ref": "824c5554-fdb8-43d3-8bc9-684a4f6b1dd5",
       "rows": [
        [
         "0",
         "strawberry",
         "3.396088185477276",
         "mall",
         "1"
        ],
        [
         "1",
         "chocolate",
         "2.82322794156873",
         "park",
         "0"
        ],
        [
         "2",
         "strawberry",
         "1.5851360000154462",
         "mall",
         "0"
        ],
        [
         "3",
         "strawberry",
         "3.437354513972435",
         "park",
         "0"
        ],
        [
         "4",
         "chocolate",
         "2.7441895420628213",
         "beach",
         "0"
        ]
       ],
       "shape": {
        "columns": 4,
        "rows": 5
       }
      },
      "text/html": [
       "<div>\n",
       "<style scoped>\n",
       "    .dataframe tbody tr th:only-of-type {\n",
       "        vertical-align: middle;\n",
       "    }\n",
       "\n",
       "    .dataframe tbody tr th {\n",
       "        vertical-align: top;\n",
       "    }\n",
       "\n",
       "    .dataframe thead th {\n",
       "        text-align: right;\n",
       "    }\n",
       "</style>\n",
       "<table border=\"1\" class=\"dataframe\">\n",
       "  <thead>\n",
       "    <tr style=\"text-align: right;\">\n",
       "      <th></th>\n",
       "      <th>variety</th>\n",
       "      <th>pricing</th>\n",
       "      <th>location</th>\n",
       "      <th>sales</th>\n",
       "    </tr>\n",
       "  </thead>\n",
       "  <tbody>\n",
       "    <tr>\n",
       "      <th>0</th>\n",
       "      <td>strawberry</td>\n",
       "      <td>3.396088</td>\n",
       "      <td>mall</td>\n",
       "      <td>1</td>\n",
       "    </tr>\n",
       "    <tr>\n",
       "      <th>1</th>\n",
       "      <td>chocolate</td>\n",
       "      <td>2.823228</td>\n",
       "      <td>park</td>\n",
       "      <td>0</td>\n",
       "    </tr>\n",
       "    <tr>\n",
       "      <th>2</th>\n",
       "      <td>strawberry</td>\n",
       "      <td>1.585136</td>\n",
       "      <td>mall</td>\n",
       "      <td>0</td>\n",
       "    </tr>\n",
       "    <tr>\n",
       "      <th>3</th>\n",
       "      <td>strawberry</td>\n",
       "      <td>3.437355</td>\n",
       "      <td>park</td>\n",
       "      <td>0</td>\n",
       "    </tr>\n",
       "    <tr>\n",
       "      <th>4</th>\n",
       "      <td>chocolate</td>\n",
       "      <td>2.744190</td>\n",
       "      <td>beach</td>\n",
       "      <td>0</td>\n",
       "    </tr>\n",
       "  </tbody>\n",
       "</table>\n",
       "</div>"
      ],
      "text/plain": [
       "      variety   pricing location  sales\n",
       "0  strawberry  3.396088     mall      1\n",
       "1   chocolate  2.823228     park      0\n",
       "2  strawberry  1.585136     mall      0\n",
       "3  strawberry  3.437355     park      0\n",
       "4   chocolate  2.744190    beach      0"
      ]
     },
     "execution_count": 4,
     "metadata": {},
     "output_type": "execute_result"
    }
   ],
   "source": [
    "import pandas as pd\n",
    "\n",
    "data = pd.read_csv('./vendors.csv')\n",
    "\n",
    "data.head()\n",
    "# data.info()\n",
    "\n"
   ]
  },
  {
   "cell_type": "code",
   "execution_count": null,
   "id": "da9d6cb9",
   "metadata": {},
   "outputs": [],
   "source": []
  },
  {
   "cell_type": "code",
   "execution_count": 28,
   "id": "8a208fbe",
   "metadata": {},
   "outputs": [],
   "source": [
    "from tensorflow.keras import models\n",
    "from tensorflow.keras import layers\n",
    "\n",
    "\n",
    "\n",
    "#sequential\n",
    "model = models.Sequential()\n"
   ]
  },
  {
   "cell_type": "code",
   "execution_count": 17,
   "id": "252cb146",
   "metadata": {},
   "outputs": [
    {
     "name": "stdout",
     "output_type": "stream",
     "text": [
      "<class 'pandas.core.frame.DataFrame'>\n",
      "Index: 3000 entries, 6252 to 4705\n",
      "Data columns (total 5 columns):\n",
      " #   Column              Non-Null Count  Dtype  \n",
      "---  ------              --------------  -----  \n",
      " 0   pricing             3000 non-null   float64\n",
      " 1   variety_strawberry  3000 non-null   int64  \n",
      " 2   variety_vanilla     3000 non-null   int64  \n",
      " 3   location_mall       3000 non-null   int64  \n",
      " 4   location_park       3000 non-null   int64  \n",
      "dtypes: float64(1), int64(4)\n",
      "memory usage: 140.6 KB\n"
     ]
    }
   ],
   "source": [
    "x_test.info()"
   ]
  },
  {
   "cell_type": "code",
   "execution_count": 23,
   "id": "fe554081",
   "metadata": {},
   "outputs": [],
   "source": [
    "#building the layers\n",
    "data_encoded = pd.get_dummies(data[['variety', 'location']], drop_first=True)\n",
    "data_encoded['location_mall'] = data_encoded['location_mall'].astype(int)\n",
    "data_encoded['location_park'] = data_encoded['location_park'].astype(int)\n",
    "data_encoded['variety_vanilla'] = data_encoded['variety_vanilla'].astype(int)\n",
    "data_encoded['variety_strawberry'] = data_encoded['variety_strawberry'].astype(int)\n",
    "\n",
    "X = pd.concat([data['pricing'], data_encoded], axis=1)\n",
    "y = data['sales'].astype(int)\n",
    "\n",
    "from sklearn.model_selection import train_test_split\n",
    "\n",
    "X_train, x_test, y_train, y_test = train_test_split(X, y, test_size = 0.3, random_state= 42)\n"
   ]
  },
  {
   "cell_type": "code",
   "execution_count": null,
   "id": "3a2ed883",
   "metadata": {},
   "outputs": [
    {
     "name": "stdout",
     "output_type": "stream",
     "text": [
      "Epoch 1/10\n",
      "\u001b[1m28/28\u001b[0m \u001b[32m━━━━━━━━━━━━━━━━━━━━\u001b[0m\u001b[37m\u001b[0m \u001b[1m5s\u001b[0m 21ms/step - accuracy: 0.7379 - loss: 0.6777 - val_accuracy: 0.7400 - val_loss: 0.6379\n",
      "Epoch 2/10\n",
      "\u001b[1m28/28\u001b[0m \u001b[32m━━━━━━━━━━━━━━━━━━━━\u001b[0m\u001b[37m\u001b[0m \u001b[1m0s\u001b[0m 8ms/step - accuracy: 0.7354 - loss: 0.6294 - val_accuracy: 0.7400 - val_loss: 0.6041\n",
      "Epoch 3/10\n",
      "\u001b[1m28/28\u001b[0m \u001b[32m━━━━━━━━━━━━━━━━━━━━\u001b[0m\u001b[37m\u001b[0m \u001b[1m0s\u001b[0m 8ms/step - accuracy: 0.7375 - loss: 0.6006 - val_accuracy: 0.7400 - val_loss: 0.5871\n",
      "Epoch 4/10\n",
      "\u001b[1m28/28\u001b[0m \u001b[32m━━━━━━━━━━━━━━━━━━━━\u001b[0m\u001b[37m\u001b[0m \u001b[1m0s\u001b[0m 8ms/step - accuracy: 0.7424 - loss: 0.5830 - val_accuracy: 0.7400 - val_loss: 0.5787\n",
      "Epoch 5/10\n",
      "\u001b[1m28/28\u001b[0m \u001b[32m━━━━━━━━━━━━━━━━━━━━\u001b[0m\u001b[37m\u001b[0m \u001b[1m0s\u001b[0m 8ms/step - accuracy: 0.7382 - loss: 0.5791 - val_accuracy: 0.7400 - val_loss: 0.5752\n",
      "Epoch 6/10\n",
      "\u001b[1m28/28\u001b[0m \u001b[32m━━━━━━━━━━━━━━━━━━━━\u001b[0m\u001b[37m\u001b[0m \u001b[1m0s\u001b[0m 7ms/step - accuracy: 0.7390 - loss: 0.5757 - val_accuracy: 0.7400 - val_loss: 0.5738\n",
      "Epoch 7/10\n",
      "\u001b[1m28/28\u001b[0m \u001b[32m━━━━━━━━━━━━━━━━━━━━\u001b[0m\u001b[37m\u001b[0m \u001b[1m0s\u001b[0m 11ms/step - accuracy: 0.7384 - loss: 0.5752 - val_accuracy: 0.7400 - val_loss: 0.5734\n",
      "Epoch 8/10\n",
      "\u001b[1m28/28\u001b[0m \u001b[32m━━━━━━━━━━━━━━━━━━━━\u001b[0m\u001b[37m\u001b[0m \u001b[1m0s\u001b[0m 12ms/step - accuracy: 0.7270 - loss: 0.5863 - val_accuracy: 0.7400 - val_loss: 0.5732\n",
      "Epoch 9/10\n",
      "\u001b[1m28/28\u001b[0m \u001b[32m━━━━━━━━━━━━━━━━━━━━\u001b[0m\u001b[37m\u001b[0m \u001b[1m0s\u001b[0m 9ms/step - accuracy: 0.7371 - loss: 0.5761 - val_accuracy: 0.7400 - val_loss: 0.5731\n",
      "Epoch 10/10\n",
      "\u001b[1m28/28\u001b[0m \u001b[32m━━━━━━━━━━━━━━━━━━━━\u001b[0m\u001b[37m\u001b[0m \u001b[1m0s\u001b[0m 9ms/step - accuracy: 0.7322 - loss: 0.5811 - val_accuracy: 0.7400 - val_loss: 0.5731\n"
     ]
    },
    {
     "data": {
      "text/plain": [
       "<keras.src.callbacks.history.History at 0x231fedcd010>"
      ]
     },
     "execution_count": 30,
     "metadata": {},
     "output_type": "execute_result"
    }
   ],
   "source": [
    "from tensorflow.keras.optimizers import Adam\n",
    "\n",
    "\n",
    "##building a neural networks\n",
    "model.add(layers.Dense(18, activation='relu')) #hidden layer 1\n",
    "model.add(layers.Dense(9, activation='relu'))  #hidden layer 2\n",
    "model.add(layers.Dense(3, activation='relu'))  #hidden layer 3\n",
    "\n",
    "#output layer\n",
    "model.add(layers.Dense(1, activation='sigmoid'))\n",
    "\n",
    "\n",
    "#compiling your model\n",
    "model.compile(optimizer=Adam(learning_rate=0.01), metrics=['accuracy'], loss='binary_crossentropy')\n",
    "\n",
    "model.fit(X_train, y_train, epochs=10, batch_size=200, validation_split=0.2)\n"
   ]
  },
  {
   "cell_type": "code",
   "execution_count": null,
   "id": "f3e6b78d",
   "metadata": {},
   "outputs": [],
   "source": []
  },
  {
   "cell_type": "markdown",
   "id": "af5e9e7e",
   "metadata": {},
   "source": [
    "### Deep Neural networks\n",
    "\n",
    "\n",
    "![alt text](image2.png)"
   ]
  },
  {
   "cell_type": "markdown",
   "id": "2248d194",
   "metadata": {},
   "source": []
  }
 ],
 "metadata": {
  "kernelspec": {
   "display_name": "nlp_env",
   "language": "python",
   "name": "python3"
  },
  "language_info": {
   "codemirror_mode": {
    "name": "ipython",
    "version": 3
   },
   "file_extension": ".py",
   "mimetype": "text/x-python",
   "name": "python",
   "nbconvert_exporter": "python",
   "pygments_lexer": "ipython3",
   "version": "3.11.11"
  }
 },
 "nbformat": 4,
 "nbformat_minor": 5
}
